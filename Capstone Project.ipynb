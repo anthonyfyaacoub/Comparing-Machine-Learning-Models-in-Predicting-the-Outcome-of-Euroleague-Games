{
 "cells": [
  {
   "cell_type": "code",
   "execution_count": 2,
   "id": "eac64e17",
   "metadata": {},
   "outputs": [
    {
     "data": {
      "text/html": [
       "<div>\n",
       "<style scoped>\n",
       "    .dataframe tbody tr th:only-of-type {\n",
       "        vertical-align: middle;\n",
       "    }\n",
       "\n",
       "    .dataframe tbody tr th {\n",
       "        vertical-align: top;\n",
       "    }\n",
       "\n",
       "    .dataframe thead th {\n",
       "        text-align: right;\n",
       "    }\n",
       "</style>\n",
       "<table border=\"1\" class=\"dataframe\">\n",
       "  <thead>\n",
       "    <tr style=\"text-align: right;\">\n",
       "      <th></th>\n",
       "      <th>season</th>\n",
       "      <th>team</th>\n",
       "      <th>PTS40</th>\n",
       "      <th>OP_PTS40</th>\n",
       "      <th>PTS</th>\n",
       "      <th>OP_PTS</th>\n",
       "      <th>3P%</th>\n",
       "      <th>OP_3P%</th>\n",
       "      <th>2P%</th>\n",
       "      <th>OP_2P%</th>\n",
       "      <th>...</th>\n",
       "      <th>NETRtg</th>\n",
       "      <th>eFG%</th>\n",
       "      <th>OP_eFG%</th>\n",
       "      <th>TS%</th>\n",
       "      <th>OP_TS%</th>\n",
       "      <th>game_id</th>\n",
       "      <th>round</th>\n",
       "      <th>location</th>\n",
       "      <th>OP_team</th>\n",
       "      <th>win</th>\n",
       "    </tr>\n",
       "  </thead>\n",
       "  <tbody>\n",
       "    <tr>\n",
       "      <th>0</th>\n",
       "      <td>2016</td>\n",
       "      <td>BAS</td>\n",
       "      <td>85.0</td>\n",
       "      <td>84.0</td>\n",
       "      <td>85</td>\n",
       "      <td>84</td>\n",
       "      <td>31.578947</td>\n",
       "      <td>34.782609</td>\n",
       "      <td>65.000000</td>\n",
       "      <td>50.000000</td>\n",
       "      <td>...</td>\n",
       "      <td>1.346983</td>\n",
       "      <td>59.322034</td>\n",
       "      <td>50.746269</td>\n",
       "      <td>61.487269</td>\n",
       "      <td>55.732484</td>\n",
       "      <td>2016_1_BAS_EFS</td>\n",
       "      <td>1</td>\n",
       "      <td>home_team</td>\n",
       "      <td>EFS</td>\n",
       "      <td>True</td>\n",
       "    </tr>\n",
       "    <tr>\n",
       "      <th>1</th>\n",
       "      <td>2016</td>\n",
       "      <td>EFS</td>\n",
       "      <td>84.0</td>\n",
       "      <td>85.0</td>\n",
       "      <td>84</td>\n",
       "      <td>85</td>\n",
       "      <td>34.782609</td>\n",
       "      <td>31.578947</td>\n",
       "      <td>50.000000</td>\n",
       "      <td>65.000000</td>\n",
       "      <td>...</td>\n",
       "      <td>-1.346983</td>\n",
       "      <td>50.746269</td>\n",
       "      <td>59.322034</td>\n",
       "      <td>55.732484</td>\n",
       "      <td>61.487269</td>\n",
       "      <td>2016_1_BAS_EFS</td>\n",
       "      <td>1</td>\n",
       "      <td>away_team</td>\n",
       "      <td>BAS</td>\n",
       "      <td>False</td>\n",
       "    </tr>\n",
       "    <tr>\n",
       "      <th>2</th>\n",
       "      <td>2016</td>\n",
       "      <td>FNR</td>\n",
       "      <td>67.0</td>\n",
       "      <td>66.0</td>\n",
       "      <td>67</td>\n",
       "      <td>66</td>\n",
       "      <td>50.000000</td>\n",
       "      <td>26.923077</td>\n",
       "      <td>35.000000</td>\n",
       "      <td>52.941176</td>\n",
       "      <td>...</td>\n",
       "      <td>1.491647</td>\n",
       "      <td>45.370370</td>\n",
       "      <td>47.500000</td>\n",
       "      <td>52.245789</td>\n",
       "      <td>51.594747</td>\n",
       "      <td>2016_1_FNR_BAM</td>\n",
       "      <td>1</td>\n",
       "      <td>home_team</td>\n",
       "      <td>BAM</td>\n",
       "      <td>True</td>\n",
       "    </tr>\n",
       "    <tr>\n",
       "      <th>3</th>\n",
       "      <td>2016</td>\n",
       "      <td>BAM</td>\n",
       "      <td>66.0</td>\n",
       "      <td>67.0</td>\n",
       "      <td>66</td>\n",
       "      <td>67</td>\n",
       "      <td>26.923077</td>\n",
       "      <td>50.000000</td>\n",
       "      <td>52.941176</td>\n",
       "      <td>35.000000</td>\n",
       "      <td>...</td>\n",
       "      <td>-1.491647</td>\n",
       "      <td>47.500000</td>\n",
       "      <td>45.370370</td>\n",
       "      <td>51.594747</td>\n",
       "      <td>52.245789</td>\n",
       "      <td>2016_1_FNR_BAM</td>\n",
       "      <td>1</td>\n",
       "      <td>away_team</td>\n",
       "      <td>FNR</td>\n",
       "      <td>False</td>\n",
       "    </tr>\n",
       "    <tr>\n",
       "      <th>4</th>\n",
       "      <td>2016</td>\n",
       "      <td>GAL</td>\n",
       "      <td>84.0</td>\n",
       "      <td>109.0</td>\n",
       "      <td>84</td>\n",
       "      <td>109</td>\n",
       "      <td>37.500000</td>\n",
       "      <td>54.545455</td>\n",
       "      <td>50.000000</td>\n",
       "      <td>69.047619</td>\n",
       "      <td>...</td>\n",
       "      <td>-31.110005</td>\n",
       "      <td>52.205882</td>\n",
       "      <td>73.437500</td>\n",
       "      <td>54.375971</td>\n",
       "      <td>76.245104</td>\n",
       "      <td>2016_1_GAL_CSK</td>\n",
       "      <td>1</td>\n",
       "      <td>home_team</td>\n",
       "      <td>CSK</td>\n",
       "      <td>False</td>\n",
       "    </tr>\n",
       "  </tbody>\n",
       "</table>\n",
       "<p>5 rows × 42 columns</p>\n",
       "</div>"
      ],
      "text/plain": [
       "   season team  PTS40  OP_PTS40  PTS  OP_PTS        3P%     OP_3P%        2P%  \\\n",
       "0    2016  BAS   85.0      84.0   85      84  31.578947  34.782609  65.000000   \n",
       "1    2016  EFS   84.0      85.0   84      85  34.782609  31.578947  50.000000   \n",
       "2    2016  FNR   67.0      66.0   67      66  50.000000  26.923077  35.000000   \n",
       "3    2016  BAM   66.0      67.0   66      67  26.923077  50.000000  52.941176   \n",
       "4    2016  GAL   84.0     109.0   84     109  37.500000  54.545455  50.000000   \n",
       "\n",
       "      OP_2P%  ...     NETRtg       eFG%    OP_eFG%        TS%     OP_TS%  \\\n",
       "0  50.000000  ...   1.346983  59.322034  50.746269  61.487269  55.732484   \n",
       "1  65.000000  ...  -1.346983  50.746269  59.322034  55.732484  61.487269   \n",
       "2  52.941176  ...   1.491647  45.370370  47.500000  52.245789  51.594747   \n",
       "3  35.000000  ...  -1.491647  47.500000  45.370370  51.594747  52.245789   \n",
       "4  69.047619  ... -31.110005  52.205882  73.437500  54.375971  76.245104   \n",
       "\n",
       "          game_id  round   location  OP_team    win  \n",
       "0  2016_1_BAS_EFS      1  home_team      EFS   True  \n",
       "1  2016_1_BAS_EFS      1  away_team      BAS  False  \n",
       "2  2016_1_FNR_BAM      1  home_team      BAM   True  \n",
       "3  2016_1_FNR_BAM      1  away_team      FNR  False  \n",
       "4  2016_1_GAL_CSK      1  home_team      CSK  False  \n",
       "\n",
       "[5 rows x 42 columns]"
      ]
     },
     "execution_count": 2,
     "metadata": {},
     "output_type": "execute_result"
    }
   ],
   "source": [
    "import pandas as pd\n",
    "\n",
    "# Load your dataset\n",
    "# Replace 'your_dataset.csv' with the actual filename/path of your dataset\n",
    "games = pd.read_csv('games_advanced_stats.csv')\n",
    "\n",
    "games.head()"
   ]
  },
  {
   "cell_type": "code",
   "execution_count": 3,
   "id": "284f5926",
   "metadata": {},
   "outputs": [
    {
     "name": "stdout",
     "output_type": "stream",
     "text": [
      "Columns with Missing Values:\n",
      "FT%    1\n",
      "dtype: int64\n"
     ]
    }
   ],
   "source": [
    "# Check for missing values\n",
    "missing_values = games.isnull().sum()\n",
    "\n",
    "# Display columns with missing values (if any) and the corresponding counts\n",
    "print(\"Columns with Missing Values:\")\n",
    "print(missing_values[missing_values > 0])"
   ]
  },
  {
   "cell_type": "code",
   "execution_count": 4,
   "id": "a58bd11d",
   "metadata": {},
   "outputs": [
    {
     "name": "stdout",
     "output_type": "stream",
     "text": [
      "Row(s) with Missing Value:\n",
      "     season team  PTS40  OP_PTS40  PTS  OP_PTS        3P%  OP_3P%        2P%  \\\n",
      "189    2016  MTA   58.0      83.0   58      83  26.086957    25.0  55.555556   \n",
      "\n",
      "        OP_2P%  ...     NETRtg       eFG%    OP_eFG%        TS%    OP_TS%  \\\n",
      "189  62.790698  ... -34.106412  49.152542  53.731343  49.152542  56.38587   \n",
      "\n",
      "             game_id  round   location  OP_team    win  \n",
      "189  2016_12_RED_MTA     12  away_team      RED  False  \n",
      "\n",
      "[1 rows x 42 columns]\n"
     ]
    }
   ],
   "source": [
    "# Find the row(s) with missing values\n",
    "missing_rows = games[games['FT%'].isnull()]\n",
    "\n",
    "# Display the row(s) with missing values\n",
    "print(\"Row(s) with Missing Value:\")\n",
    "print(missing_rows)\n"
   ]
  },
  {
   "cell_type": "code",
   "execution_count": 5,
   "id": "8739adad",
   "metadata": {},
   "outputs": [],
   "source": [
    "# Replace null value with team's average\n",
    "games['FT%'].fillna(72.56, inplace=True)"
   ]
  },
  {
   "cell_type": "code",
   "execution_count": 6,
   "id": "107aea96",
   "metadata": {},
   "outputs": [
    {
     "name": "stdout",
     "output_type": "stream",
     "text": [
      "No duplicate rows found.\n"
     ]
    }
   ],
   "source": [
    "# Check for duplicate entries\n",
    "duplicate_rows = games.duplicated()\n",
    "\n",
    "# Display duplicate rows, if any\n",
    "if any(duplicate_rows):\n",
    "    print(\"Duplicate Rows:\")\n",
    "    print(dataset[duplicate_rows])\n",
    "else:\n",
    "    print(\"No duplicate rows found.\")"
   ]
  },
  {
   "cell_type": "code",
   "execution_count": 7,
   "id": "c24c4c59",
   "metadata": {},
   "outputs": [
    {
     "name": "stdout",
     "output_type": "stream",
     "text": [
      "1    882\n",
      "0    882\n",
      "Name: win, dtype: int64\n"
     ]
    }
   ],
   "source": [
    "games['win'] = games['win'].astype(int)\n",
    "\n",
    "# Verify the conversion\n",
    "print(games['win'].value_counts())"
   ]
  },
  {
   "cell_type": "code",
   "execution_count": 12,
   "id": "c0627cad",
   "metadata": {},
   "outputs": [
    {
     "data": {
      "image/png": "[encoded data removed]",
      "text/plain": [
       "<Figure size 800x600 with 1 Axes>"
      ]
     },
     "metadata": {},
     "output_type": "display_data"
    }
   ],
   "source": [
    "games['location_numeric'] = games['location'].map({'home_team': 1, 'away_team': 0})\n",
    "\n",
    "# Plotting\n",
    "plt.figure(figsize=(8, 6))\n",
    "plt.scatter(games['location_numeric'], games['TS%'], alpha=0.5)\n",
    "plt.title('Scatter Plot of TS% vs Location')\n",
    "plt.xlabel('Location (1 for home, 0 for away)')\n",
    "plt.ylabel('True Shooting Percentage (TS%)')\n",
    "plt.grid(True)\n",
    "games['location_numeric'] = games['location'].map({'home_team': 1, 'away_team': 0})\n",
    "plt.show()"
   ]
  },
  {
   "cell_type": "code",
   "execution_count": 13,
   "id": "d8ec448d",
   "metadata": {
    "scrolled": true
   },
   "outputs": [
    {
     "data": {
      "image/png": "[encoded data removed]",
      "text/plain": [
       "<Figure size 800x600 with 1 Axes>"
      ]
     },
     "metadata": {},
     "output_type": "display_data"
    },
    {
     "name": "stdout",
     "output_type": "stream",
     "text": [
      "count    882.000000\n",
      "mean      58.574139\n",
      "std        7.323179\n",
      "min       38.067553\n",
      "25%       53.362810\n",
      "50%       58.610171\n",
      "75%       63.476543\n",
      "max       81.210191\n",
      "Name: TS%, dtype: float64\n",
      "count    882.000000\n",
      "mean      56.983564\n",
      "std        7.294822\n",
      "min       34.592869\n",
      "25%       51.867220\n",
      "50%       56.953312\n",
      "75%       62.056738\n",
      "max       78.397213\n",
      "Name: TS%, dtype: float64\n"
     ]
    }
   ],
   "source": [
    "# Descriptive statistics for TS% based on location\n",
    "ts_home_descriptive = games[games['location'] == 'home_team']['TS%'].describe()\n",
    "ts_away_descriptive = games[games['location'] == 'away_team']['TS%'].describe()\n",
    "\n",
    "# Boxplot visualization\n",
    "plt.figure(figsize=(8, 6))\n",
    "plt.boxplot([games[games['location'] == 'home_team']['TS%'], games[games['location'] == 'away_team']['TS%']], labels=['Home', 'Away'])\n",
    "plt.title('TS% Distribution for Home vs. Away Games')\n",
    "plt.ylabel('True Shooting Percentage (TS%)')\n",
    "plt.grid(True)\n",
    "plt.show()\n",
    "\n",
    "print(ts_home_descriptive)\n",
    "print(ts_away_descriptive)\n"
   ]
  },
  {
   "cell_type": "code",
   "execution_count": 14,
   "id": "16f2adda",
   "metadata": {},
   "outputs": [
    {
     "name": "stdout",
     "output_type": "stream",
     "text": [
      "T-statistic: 4.569983836880272, P-value: 5.216616498304303e-06\n"
     ]
    }
   ],
   "source": [
    "from scipy.stats import ttest_ind\n",
    "\n",
    "# T-test for TS% between home and away games\n",
    "t_stat, p_value = ttest_ind(games[games['location'] == 'home_team']['TS%'], games[games['location'] == 'away_team']['TS%'], equal_var=False)\n",
    "\n",
    "print(f\"T-statistic: {t_stat}, P-value: {p_value}\")\n"
   ]
  },
  {
   "cell_type": "code",
   "execution_count": 15,
   "id": "ed122359",
   "metadata": {},
   "outputs": [
    {
     "name": "stderr",
     "output_type": "stream",
     "text": [
      "C:\\Users\\antho\\AppData\\Local\\Temp\\ipykernel_48656\\139875603.py:12: FutureWarning: The default value of numeric_only in DataFrameGroupBy.mean is deprecated. In a future version, numeric_only will default to False. Either specify numeric_only or select only columns which should be valid for the function.\n",
      "  home_winning_prob = games[games['location'] == 'home_team'].groupby(pd.cut(games[games['location'] == 'home_team']['TS%'], bins=ts_bins)).mean()['win']\n",
      "C:\\Users\\antho\\AppData\\Local\\Temp\\ipykernel_48656\\139875603.py:13: FutureWarning: The default value of numeric_only in DataFrameGroupBy.mean is deprecated. In a future version, numeric_only will default to False. Either specify numeric_only or select only columns which should be valid for the function.\n",
      "  away_winning_prob = games[games['location'] == 'away_team'].groupby(pd.cut(games[games['location'] == 'away_team']['TS%'], bins=ts_bins)).mean()['win']\n"
     ]
    },
    {
     "data": {
      "image/png": "[encoded data removed]",
      "text/plain": [
       "<Figure size 1200x600 with 1 Axes>"
      ]
     },
     "metadata": {},
     "output_type": "display_data"
    }
   ],
   "source": [
    "import pandas as pd\n",
    "import matplotlib.pyplot as plt\n",
    "import numpy as np\n",
    "\n",
    "\n",
    "# Define TS% bins based on the overall range in your dataset\n",
    "ts_bins = np.linspace(games['TS%'].min(), games['TS%'].max(), 20)\n",
    "\n",
    "# Calculate winning probability for home and away teams within TS% ranges\n",
    "home_winning_prob = games[games['location'] == 'home_team'].groupby(pd.cut(games[games['location'] == 'home_team']['TS%'], bins=ts_bins)).mean()['win']\n",
    "away_winning_prob = games[games['location'] == 'away_team'].groupby(pd.cut(games[games['location'] == 'away_team']['TS%'], bins=ts_bins)).mean()['win']\n",
    "\n",
    "# Extract the midpoints of the TS% bins for plotting\n",
    "ts_midpoints = [(bin.left + bin.right)/2 for bin in home_winning_prob.index]\n",
    "\n",
    "# Plotting\n",
    "plt.figure(figsize=(12, 6))\n",
    "\n",
    "# Plot for both home and away teams\n",
    "plt.plot(ts_midpoints, home_winning_prob.values, marker='o', linestyle='-', color='b', label='Home Teams')\n",
    "plt.plot(ts_midpoints, away_winning_prob.values, marker='s', linestyle='-', color='r', label='Away Teams')\n",
    "\n",
    "plt.title('Probability of Winning by TS% Range for Home vs. Away Teams')\n",
    "plt.xlabel('True Shooting Percentage (TS%) Midpoint')\n",
    "plt.ylabel('Probability of Winning')\n",
    "plt.legend()\n",
    "plt.grid(True)\n",
    "plt.show()\n"
   ]
  },
  {
   "cell_type": "code",
   "execution_count": 16,
   "id": "0629efc2",
   "metadata": {
    "scrolled": true
   },
   "outputs": [
    {
     "data": {
      "image/png": "[encoded data removed]",
      "text/plain": [
       "<Figure size 1000x800 with 2 Axes>"
      ]
     },
     "metadata": {},
     "output_type": "display_data"
    },
    {
     "data": {
      "text/plain": [
       "TS%                 4.696752e-01\n",
       "OP_TS%              4.696752e-01\n",
       "OP_eFG%             4.539050e-01\n",
       "eFG%                4.539050e-01\n",
       "OP_3P%              3.225787e-01\n",
       "3P%                 3.225787e-01\n",
       "OP_2P%              3.134892e-01\n",
       "2P%                 3.134892e-01\n",
       "location_numeric    2.698413e-01\n",
       "AST-TOV_R           2.461656e-01\n",
       "OP_AST-TOV_R        2.461656e-01\n",
       "OP_STLR             1.745629e-01\n",
       "STLR                1.745629e-01\n",
       "OP_TOVR             1.544673e-01\n",
       "TOVR                1.544673e-01\n",
       "DREB%               1.524758e-01\n",
       "OREB%               1.524758e-01\n",
       "OP_BLKR             1.448099e-01\n",
       "BLKR                1.448099e-01\n",
       "PFR                 1.259094e-01\n",
       "PFDR                1.231043e-01\n",
       "FT%                 1.107619e-01\n",
       "OP_FTR              1.086245e-01\n",
       "FTR                 1.086245e-01\n",
       "OP_ASTR             6.998564e-02\n",
       "ASTR                6.998564e-02\n",
       "OP_3PR              1.717130e-02\n",
       "3PR                 1.717130e-02\n",
       "PACE                5.230116e-05\n",
       "season              5.294814e-16\n",
       "round               7.243801e-17\n",
       "Name: win, dtype: float64"
      ]
     },
     "execution_count": 16,
     "metadata": {},
     "output_type": "execute_result"
    }
   ],
   "source": [
    "import seaborn as sns\n",
    "\n",
    "outcome_related_features = ['NETRtg', 'ORtg', 'DRtg', 'win', 'PTS', 'OP_PTS', 'PTS40', 'OP_PTS40']\n",
    "\n",
    "# Filter out non-numeric columns and outcome-related features\n",
    "numeric_features = games.select_dtypes(include=[np.number]).columns.tolist()\n",
    "features_for_correlation = [feature for feature in numeric_features if feature not in outcome_related_features]\n",
    "\n",
    "# Calculate the correlation matrix with the filtered features\n",
    "correlation_matrix_filtered = games[features_for_correlation + ['win']].corr()\n",
    "\n",
    "# Get the correlation of features with the 'win' column, excluding the 'win' column itself\n",
    "win_correlation_filtered = correlation_matrix_filtered['win'].drop('win').abs().sort_values(ascending=False)\n",
    "\n",
    "# Visualize the correlation of the filtered features with 'win' using a heatmap\n",
    "plt.figure(figsize=(10, 8))\n",
    "sns.heatmap(correlation_matrix_filtered.loc[features_for_correlation, ['win']], annot=True, cmap='coolwarm', cbar_kws={'shrink': .5}, linewidths=.5, fmt=\".2f\")\n",
    "plt.title('Correlation of Features with Win (Filtered)')\n",
    "plt.show()\n",
    "\n",
    "win_correlation_filtered  # Show the correlation values without visualization\n"
   ]
  },
  {
   "cell_type": "code",
   "execution_count": 17,
   "id": "d7a0c9df",
   "metadata": {},
   "outputs": [
    {
     "data": {
      "text/plain": [
       "eFG%                0\n",
       "TS%                 0\n",
       "AST-TOV_R           0\n",
       "STLR                0\n",
       "location_numeric    0\n",
       "OP_eFG%             0\n",
       "OP_TS%              0\n",
       "OP_AST-TOV_R        0\n",
       "OP_STLR             0\n",
       "3P%                 0\n",
       "2P%                 0\n",
       "OP_3P%              0\n",
       "OP_2P%              0\n",
       "win                 0\n",
       "dtype: int64"
      ]
     },
     "execution_count": 17,
     "metadata": {},
     "output_type": "execute_result"
    }
   ],
   "source": [
    "# Starting with data preparation\n",
    "# We will use the features mentioned by creating a new DataFrame with those columns.\n",
    "# We also make sure to include the 'win' column as it is our target variable.\n",
    "\n",
    "selected_features = [\n",
    "    'eFG%', 'TS%', 'AST-TOV_R', 'STLR', 'location_numeric',\n",
    "    'OP_eFG%', 'OP_TS%', 'OP_AST-TOV_R', 'OP_STLR',\n",
    "    '3P%', '2P%', 'OP_3P%', 'OP_2P%', 'win'\n",
    "]\n",
    "\n",
    "# Ensuring that all selected features are present in the dataset.\n",
    "# If 'location_numeric' is not present, we would need to create it from 'location'.\n",
    "# For the purpose of this example, we'll assume 'location' is binary where 'home_team' is 1 and 'away_team' is 0.\n",
    "if 'location_numeric' not in games.columns:\n",
    "    games_data['location_numeric'] = games['location'].apply(lambda x: 1 if x == 'home_team' else 0)\n",
    "\n",
    "# Create a new DataFrame with only the selected features\n",
    "model_data = games[selected_features]\n",
    "\n",
    "# Check for missing values in the selected features\n",
    "missing_data = model_data.isnull().sum()\n",
    "\n",
    "# Output the missing data counts for each feature to understand if there's any cleaning to do\n",
    "missing_data\n"
   ]
  },
  {
   "cell_type": "code",
   "execution_count": 18,
   "id": "b011c2ca",
   "metadata": {},
   "outputs": [
    {
     "data": {
      "text/plain": [
       "((1411, 13), (353, 13), (1411,), (353,))"
      ]
     },
     "execution_count": 18,
     "metadata": {},
     "output_type": "execute_result"
    }
   ],
   "source": [
    "from sklearn.model_selection import train_test_split\n",
    "from sklearn.preprocessing import StandardScaler\n",
    "\n",
    "# Separate the features (X) from the target variable (y)\n",
    "X = model_data.drop('win', axis=1)\n",
    "y = model_data['win'].astype(int)  # Ensure the target is an integer type\n",
    "\n",
    "# Initialize the scaler\n",
    "scaler = StandardScaler()\n",
    "\n",
    "# Fit the scaler on the features and transform them\n",
    "X_scaled = scaler.fit_transform(X)\n",
    "\n",
    "# Split the data into training and test sets (80% train, 20% test)\n",
    "X_train, X_test, y_train, y_test = train_test_split(X_scaled, y, test_size=0.2, random_state=42)\n",
    "\n",
    "# Output the shape of the training and test sets to confirm the split\n",
    "(X_train.shape, X_test.shape, y_train.shape, y_test.shape)\n"
   ]
  },
  {
   "cell_type": "code",
   "execution_count": 41,
   "id": "0e83e2fc",
   "metadata": {},
   "outputs": [],
   "source": [
    "# Assume model_data is your DataFrame\n",
    "model_data.to_csv('model_data.csv', index=False)\n"
   ]
  },
  {
   "cell_type": "code",
   "execution_count": 20,
   "id": "965ac862",
   "metadata": {},
   "outputs": [
    {
     "data": {
      "text/plain": [
       "(0.8731396172927002,\n",
       " 0.8583569405099151,\n",
       " '              precision    recall  f1-score   support\\n\\n           0       0.84      0.88      0.86       177\\n           1       0.88      0.84      0.85       176\\n\\n    accuracy                           0.86       353\\n   macro avg       0.86      0.86      0.86       353\\nweighted avg       0.86      0.86      0.86       353\\n')"
      ]
     },
     "execution_count": 20,
     "metadata": {},
     "output_type": "execute_result"
    }
   ],
   "source": [
    "from sklearn.linear_model import LogisticRegression\n",
    "from sklearn.metrics import accuracy_score, classification_report\n",
    "\n",
    "# Initialize the logistic regression model\n",
    "logreg_model = LogisticRegression()\n",
    "\n",
    "# Train the model\n",
    "logreg_model.fit(X_train, y_train)\n",
    "\n",
    "# Predict on the training set and the test set\n",
    "train_preds = logreg_model.predict(X_train)\n",
    "test_preds = logreg_model.predict(X_test)\n",
    "\n",
    "# Calculate accuracy\n",
    "train_accuracy = accuracy_score(y_train, train_preds)\n",
    "test_accuracy = accuracy_score(y_test, test_preds)\n",
    "\n",
    "# Generate a classification report for the test set\n",
    "test_report = classification_report(y_test, test_preds)\n",
    "\n",
    "(train_accuracy, test_accuracy, test_report)\n"
   ]
  },
  {
   "cell_type": "code",
   "execution_count": 21,
   "id": "314a3293",
   "metadata": {},
   "outputs": [
    {
     "name": "stdout",
     "output_type": "stream",
     "text": [
      "Training Accuracy: 0.87\n",
      "Testing Accuracy: 0.86\n",
      "\n",
      "Classification Report for Testing Set:\n",
      "              precision    recall  f1-score   support\n",
      "\n",
      "           0       0.84      0.88      0.86       177\n",
      "           1       0.88      0.84      0.85       176\n",
      "\n",
      "    accuracy                           0.86       353\n",
      "   macro avg       0.86      0.86      0.86       353\n",
      "weighted avg       0.86      0.86      0.86       353\n",
      "\n"
     ]
    }
   ],
   "source": [
    "print(f\"Training Accuracy: {train_accuracy:.2f}\")\n",
    "print(f\"Testing Accuracy: {test_accuracy:.2f}\")\n",
    "print(\"\\nClassification Report for Testing Set:\")\n",
    "print(test_report)\n"
   ]
  },
  {
   "cell_type": "code",
   "execution_count": 24,
   "id": "b48fe927",
   "metadata": {},
   "outputs": [],
   "source": [
    "from sklearn.ensemble import RandomForestClassifier\n",
    "\n",
    "# Initialize the Random Forest classifier\n",
    "rf_model = RandomForestClassifier(n_estimators=100, random_state=42)\n",
    "\n",
    "# Train the model on the training set\n",
    "rf_model.fit(X_train, y_train)\n",
    "\n",
    "# Predict on the training and test sets\n",
    "train_preds_rf = rf_model.predict(X_train)\n",
    "test_preds_rf = rf_model.predict(X_test)\n",
    "\n",
    "# Calculate accuracy for both sets\n",
    "train_accuracy_rf = accuracy_score(y_train, train_preds_rf)\n",
    "test_accuracy_rf = accuracy_score(y_test, test_preds_rf)\n",
    "\n",
    "test_report_rf = classification_report(y_test, test_preds_rf, output_dict=True)\n"
   ]
  },
  {
   "cell_type": "code",
   "execution_count": 25,
   "id": "8359a915",
   "metadata": {},
   "outputs": [
    {
     "name": "stdout",
     "output_type": "stream",
     "text": [
      "Training Accuracy: 1.00\n",
      "Testing Accuracy: 0.88\n",
      "\n",
      "Classification Report for Testing Set:\n",
      "{'0': {'precision': 0.8863636363636364, 'recall': 0.8813559322033898, 'f1-score': 0.8838526912181303, 'support': 177}, '1': {'precision': 0.8813559322033898, 'recall': 0.8863636363636364, 'f1-score': 0.8838526912181303, 'support': 176}, 'accuracy': 0.8838526912181303, 'macro avg': {'precision': 0.8838597842835131, 'recall': 0.8838597842835131, 'f1-score': 0.8838526912181303, 'support': 353}, 'weighted avg': {'precision': 0.8838668773488958, 'recall': 0.8838526912181303, 'f1-score': 0.8838526912181303, 'support': 353}}\n"
     ]
    }
   ],
   "source": [
    "print(f\"Training Accuracy: {train_accuracy_rf:.2f}\")\n",
    "print(f\"Testing Accuracy: {test_accuracy_rf:.2f}\")\n",
    "print(\"\\nClassification Report for Testing Set:\")\n",
    "print(test_report_rf)\n"
   ]
  },
  {
   "cell_type": "code",
   "execution_count": 31,
   "id": "57df2dc3",
   "metadata": {
    "scrolled": true
   },
   "outputs": [
    {
     "data": {
      "text/plain": [
       "{'Best Parameters': {'max_depth': 10,\n",
       "  'min_samples_leaf': 4,\n",
       "  'min_samples_split': 2,\n",
       "  'n_estimators': 200},\n",
       " 'Training Accuracy': 0.961020552799433,\n",
       " 'Testing Accuracy': 0.8583569405099151,\n",
       " 'Classification Report': {'0': {'precision': 0.8587570621468926,\n",
       "   'recall': 0.8587570621468926,\n",
       "   'f1-score': 0.8587570621468926,\n",
       "   'support': 177},\n",
       "  '1': {'precision': 0.8579545454545454,\n",
       "   'recall': 0.8579545454545454,\n",
       "   'f1-score': 0.8579545454545454,\n",
       "   'support': 176},\n",
       "  'accuracy': 0.8583569405099151,\n",
       "  'macro avg': {'precision': 0.8583558038007191,\n",
       "   'recall': 0.8583558038007191,\n",
       "   'f1-score': 0.8583558038007191,\n",
       "   'support': 353},\n",
       "  'weighted avg': {'precision': 0.8583569405099151,\n",
       "   'recall': 0.8583569405099151,\n",
       "   'f1-score': 0.8583569405099151,\n",
       "   'support': 353}}}"
      ]
     },
     "execution_count": 31,
     "metadata": {},
     "output_type": "execute_result"
    }
   ],
   "source": [
    "from sklearn.model_selection import GridSearchCV\n",
    "\n",
    "# Parameters for tuning the Random Forest Classifier\n",
    "params_rf = {\n",
    "    'n_estimators': [100, 200, 300],\n",
    "    'max_depth': [10, 20, None],\n",
    "    'min_samples_split': [2, 5, 10],\n",
    "    'min_samples_leaf': [1, 2, 4]\n",
    "}\n",
    "\n",
    "# Initialize the GridSearchCV object\n",
    "grid_rf = GridSearchCV(estimator=RandomForestClassifier(random_state=42),\n",
    "                       param_grid=params_rf,\n",
    "                       cv=5,  # 5-fold cross-validation\n",
    "                       n_jobs=-1,  # Use all available cores\n",
    "                       scoring='accuracy')\n",
    "\n",
    "# Perform grid search on the training data\n",
    "grid_rf.fit(X_train, y_train)\n",
    "\n",
    "# The best hyperparameters from GridSearchCV\n",
    "best_params = grid_rf.best_params_\n",
    "\n",
    "# Best model from grid search\n",
    "best_rf_model = grid_rf.best_estimator_\n",
    "\n",
    "# Predictions using the best model\n",
    "train_preds_best_rf = best_rf_model.predict(X_train)\n",
    "test_preds_best_rf = best_rf_model.predict(X_test)\n",
    "\n",
    "# Calculate accuracy for the best model\n",
    "train_accuracy_best_rf = accuracy_score(y_train, train_preds_best_rf)\n",
    "test_accuracy_best_rf = accuracy_score(y_test, test_preds_best_rf)\n",
    "\n",
    "# Generate classification report for the best model\n",
    "test_report_best_rf = classification_report(y_test, test_preds_best_rf, output_dict=True)\n",
    "\n",
    "# Results for the best model\n",
    "best_rf_results = {\n",
    "    'Best Parameters': best_params,\n",
    "    'Training Accuracy': train_accuracy_best_rf,\n",
    "    'Testing Accuracy': test_accuracy_best_rf,\n",
    "    'Classification Report': test_report_best_rf\n",
    "}\n",
    "\n",
    "best_rf_results\n"
   ]
  },
  {
   "cell_type": "code",
   "execution_count": 33,
   "id": "75b88e2a",
   "metadata": {},
   "outputs": [
    {
     "data": {
      "text/plain": [
       "['best_random_forest_model.joblib']"
      ]
     },
     "execution_count": 33,
     "metadata": {},
     "output_type": "execute_result"
    }
   ],
   "source": [
    "from joblib import dump, load\n",
    "\n",
    "# Save the model\n",
    "dump(best_rf_model, 'best_random_forest_model.joblib')\n"
   ]
  },
  {
   "cell_type": "code",
   "execution_count": 34,
   "id": "78169943",
   "metadata": {},
   "outputs": [],
   "source": [
    "\n",
    "\n",
    "# To load the model later\n",
    "loaded_model = load('best_random_forest_model.joblib')\n"
   ]
  },
  {
   "cell_type": "code",
   "execution_count": 26,
   "id": "c1885c28",
   "metadata": {},
   "outputs": [],
   "source": [
    "from sklearn.ensemble import GradientBoostingClassifier\n",
    "\n",
    "# Initialize the Gradient Boosting classifier\n",
    "gbc_model = GradientBoostingClassifier(n_estimators=100, random_state=42)\n",
    "\n",
    "# Train the model on the training set\n",
    "gbc_model.fit(X_train, y_train)\n",
    "\n",
    "# Predict on the training and test sets\n",
    "train_preds_gbc = gbc_model.predict(X_train)\n",
    "test_preds_gbc = gbc_model.predict(X_test)\n",
    "\n",
    "# Calculate accuracy for both sets\n",
    "train_accuracy_gbc = accuracy_score(y_train, train_preds_gbc)\n",
    "test_accuracy_gbc = accuracy_score(y_test, test_preds_gbc)\n",
    "\n",
    "# Classification report\n",
    "test_report_gbc = classification_report(y_test, test_preds_gbc, output_dict=True)\n"
   ]
  },
  {
   "cell_type": "code",
   "execution_count": 27,
   "id": "6be3fdf2",
   "metadata": {},
   "outputs": [
    {
     "name": "stdout",
     "output_type": "stream",
     "text": [
      "Training Accuracy: 0.95\n",
      "Testing Accuracy: 0.88\n",
      "\n",
      "Classification Report for Testing Set:\n",
      "{'0': {'precision': 0.8736263736263736, 'recall': 0.8983050847457628, 'f1-score': 0.8857938718662953, 'support': 177}, '1': {'precision': 0.8947368421052632, 'recall': 0.8693181818181818, 'f1-score': 0.8818443804034583, 'support': 176}, 'accuracy': 0.8838526912181303, 'macro avg': {'precision': 0.8841816078658185, 'recall': 0.8838116332819723, 'f1-score': 0.8838191261348768, 'support': 353}, 'weighted avg': {'precision': 0.8841517063523924, 'recall': 0.8838526912181303, 'f1-score': 0.8838247203154189, 'support': 353}}\n"
     ]
    }
   ],
   "source": [
    "print(f\"Training Accuracy: {train_accuracy_gbc:.2f}\")\n",
    "print(f\"Testing Accuracy: {test_accuracy_gbc:.2f}\")\n",
    "print(\"\\nClassification Report for Testing Set:\")\n",
    "print(test_report_gbc)\n"
   ]
  },
  {
   "cell_type": "code",
   "execution_count": 28,
   "id": "74dd8c2c",
   "metadata": {},
   "outputs": [],
   "source": [
    "from sklearn.svm import SVC\n",
    "\n",
    "# Initialize the Support Vector Classifier\n",
    "svc_model = SVC(kernel='rbf', random_state=42)\n",
    "\n",
    "# Train the model on the training set\n",
    "svc_model.fit(X_train, y_train)\n",
    "\n",
    "# Predict on the training and test sets\n",
    "train_preds_svc = svc_model.predict(X_train)\n",
    "test_preds_svc = svc_model.predict(X_test)\n",
    "\n",
    "# Calculate accuracy for both sets\n",
    "train_accuracy_svc = accuracy_score(y_train, train_preds_svc)\n",
    "test_accuracy_svc = accuracy_score(y_test, test_preds_svc)\n",
    "\n",
    "# Classification report\n",
    "test_report_svc = classification_report(y_test, test_preds_svc, output_dict=True)\n"
   ]
  },
  {
   "cell_type": "code",
   "execution_count": 29,
   "id": "ca29595c",
   "metadata": {},
   "outputs": [
    {
     "name": "stdout",
     "output_type": "stream",
     "text": [
      "Training Accuracy: 0.90\n",
      "Testing Accuracy: 0.88\n",
      "\n",
      "Classification Report for Testing Set:\n",
      "{'0': {'precision': 0.8571428571428571, 'recall': 0.9152542372881356, 'f1-score': 0.8852459016393444, 'support': 177}, '1': {'precision': 0.9085365853658537, 'recall': 0.8465909090909091, 'f1-score': 0.8764705882352941, 'support': 176}, 'accuracy': 0.8810198300283286, 'macro avg': {'precision': 0.8828397212543554, 'recall': 0.8809225731895223, 'f1-score': 0.8808582449373192, 'support': 353}, 'weighted avg': {'precision': 0.8827669256053143, 'recall': 0.8810198300283286, 'f1-score': 0.8808706745597046, 'support': 353}}\n"
     ]
    }
   ],
   "source": [
    "print(f\"Training Accuracy: {train_accuracy_svc:.2f}\")\n",
    "print(f\"Testing Accuracy: {test_accuracy_svc:.2f}\")\n",
    "print(\"\\nClassification Report for Testing Set:\")\n",
    "print(test_report_svc)"
   ]
  },
  {
   "cell_type": "code",
   "execution_count": 30,
   "id": "834a1905",
   "metadata": {},
   "outputs": [],
   "source": [
    "from sklearn.neighbors import KNeighborsClassifier\n",
    "\n",
    "# Initialize the K-Nearest Neighbors classifier\n",
    "knn_model = KNeighborsClassifier(n_neighbors=5)\n",
    "\n",
    "# Train the model on the training set\n",
    "knn_model.fit(X_train, y_train)\n",
    "\n",
    "# Predict on the training and test sets\n",
    "train_preds_knn = knn_model.predict(X_train)\n",
    "test_preds_knn = knn_model.predict(X_test)\n",
    "\n",
    "# Calculate accuracy for both sets\n",
    "train_accuracy_knn = accuracy_score(y_train, train_preds_knn)\n",
    "test_accuracy_knn = accuracy_score(y_test, test_preds_knn)\n",
    "\n",
    "# Classification report\n",
    "test_report_knn = classification_report(y_test, test_preds_knn, output_dict=True)\n"
   ]
  },
  {
   "cell_type": "code",
   "execution_count": 31,
   "id": "fedfc5b1",
   "metadata": {},
   "outputs": [
    {
     "name": "stdout",
     "output_type": "stream",
     "text": [
      "Training Accuracy: 0.89\n",
      "Testing Accuracy: 0.85\n",
      "\n",
      "Classification Report for Testing Set:\n",
      "{'0': {'precision': 0.8369565217391305, 'recall': 0.8700564971751412, 'f1-score': 0.8531855955678669, 'support': 177}, '1': {'precision': 0.863905325443787, 'recall': 0.8295454545454546, 'f1-score': 0.846376811594203, 'support': 176}, 'accuracy': 0.8498583569405099, 'macro avg': {'precision': 0.8504309235914587, 'recall': 0.8498009758602979, 'f1-score': 0.8497812035810349, 'support': 353}, 'weighted avg': {'precision': 0.8503927524813956, 'recall': 0.8498583569405099, 'f1-score': 0.8497908477509692, 'support': 353}}\n"
     ]
    }
   ],
   "source": [
    "print(f\"Training Accuracy: {train_accuracy_knn:.2f}\")\n",
    "print(f\"Testing Accuracy: {test_accuracy_knn:.2f}\")\n",
    "print(\"\\nClassification Report for Testing Set:\")\n",
    "print(test_report_knn)"
   ]
  },
  {
   "cell_type": "code",
   "execution_count": 32,
   "id": "081be086",
   "metadata": {},
   "outputs": [
    {
     "data": {
      "text/plain": [
       "['gradient_boosting_classifier.joblib']"
      ]
     },
     "execution_count": 32,
     "metadata": {},
     "output_type": "execute_result"
    }
   ],
   "source": [
    "from joblib import dump\n",
    "\n",
    "# Assuming 'gbc_model' is your Gradient Boosting Classifier model\n",
    "# Save the model to a file\n",
    "model_filename = 'gradient_boosting_classifier.joblib'\n",
    "dump(gbc_model, model_filename)\n"
   ]
  },
  {
   "cell_type": "code",
   "execution_count": 33,
   "id": "45bf3c7d",
   "metadata": {},
   "outputs": [
    {
     "data": {
      "text/plain": [
       "(  HomeTeam AwayTeam\n",
       " 0      EFS      CSK\n",
       " 1      EFS      MTA\n",
       " 2      EFS      OLY\n",
       " 3      EFS      RMD\n",
       " 4      EFS      ZAL,\n",
       " (600, 2))"
      ]
     },
     "execution_count": 33,
     "metadata": {},
     "output_type": "execute_result"
    }
   ],
   "source": [
    "from itertools import permutations\n",
    "\n",
    "file_path = 'teams_advanced_stats.csv'\n",
    "df = pd.read_csv(file_path)\n",
    "\n",
    "# Extract unique teams from the dataset\n",
    "teams = df['team'].unique()\n",
    "\n",
    "# Generate all possible pairings for the teams, ensuring each team plays each other twice (home and away)\n",
    "pairings = pd.DataFrame(list(permutations(teams, 2)), columns=['HomeTeam', 'AwayTeam'])\n",
    "\n",
    "# Since each team plays each other twice, no additional step is needed for home and away distinction in permutations\n",
    "pairings.head(), pairings.shape\n"
   ]
  },
  {
   "cell_type": "code",
   "execution_count": 35,
   "id": "8b8dadcf",
   "metadata": {},
   "outputs": [
    {
     "name": "stdout",
     "output_type": "stream",
     "text": [
      "File saved to average_team_stats_by_season.csv\n"
     ]
    }
   ],
   "source": [
    "import pandas as pd\n",
    "\n",
    "# Load the dataset\n",
    "df = pd.read_csv('games_advanced_stats.csv')\n",
    "\n",
    "# Aggregate the required statistics for each team for different seasons\n",
    "aggregated_stats = df.groupby(['season', 'team']).agg(\n",
    "    TS_pct=('TS%', 'mean'),\n",
    "    eFG_pct=('eFG%', 'mean'),\n",
    "    OP_TS_pct=('OP_TS%', 'mean'),\n",
    "    OP_eFG_pct=('OP_eFG%', 'mean'),\n",
    "    AST_TOV_R=('AST-TOV_R', 'mean'),\n",
    "    OP_AST_TOV_R=('OP_AST-TOV_R', 'mean')\n",
    ").reset_index()\n",
    "\n",
    "# Rename the columns to match the initial dataset's naming convention\n",
    "aggregated_stats_renamed = aggregated_stats.rename(columns={\n",
    "    'TS_pct': 'TS%',\n",
    "    'eFG_pct': 'eFG%',\n",
    "    'OP_TS_pct': 'OP_TS%',\n",
    "    'OP_eFG_pct': 'OP_eFG%',\n",
    "    'AST_TOV_R': 'AST-TOV_R',\n",
    "    'OP_AST_TOV_R': 'OP_AST-TOV_R'\n",
    "})\n",
    "\n",
    "# Save the aggregated and renamed statistics to a CSV file\n",
    "csv_file_path = 'average_team_stats_by_season.csv'\n",
    "aggregated_stats_renamed.to_csv(csv_file_path, index=False)\n",
    "\n",
    "print(f'File saved to {csv_file_path}')\n"
   ]
  },
  {
   "cell_type": "code",
   "execution_count": 36,
   "id": "7695efe5",
   "metadata": {},
   "outputs": [
    {
     "name": "stdout",
     "output_type": "stream",
     "text": [
      "Merged file saved to average_teams_advanced_stats.csv\n"
     ]
    }
   ],
   "source": [
    "import pandas as pd\n",
    "\n",
    "# Load the dataset that contains the average statistics\n",
    "average_stats_df = pd.read_csv('average_team_stats_by_season.csv')\n",
    "\n",
    "# Load the dataset to which you want to add the average statistics\n",
    "teams_df = pd.read_csv('teams_advanced_stats.csv')\n",
    "\n",
    "# Ensure the 'season' and 'team' columns are of the same type in both datasets for a successful merge\n",
    "teams_df['season'] = teams_df['season'].astype(int)\n",
    "teams_df['team'] = teams_df['team'].astype(str)\n",
    "\n",
    "# Merge the average stats into the teams dataset based on 'season' and 'team'\n",
    "merged_df = pd.merge(teams_df, average_stats_df, on=['season', 'team'], how='left')\n",
    "\n",
    "# Save the merged dataframe to a CSV file\n",
    "merged_csv_path = 'average_teams_advanced_stats.csv'\n",
    "merged_df.to_csv(merged_csv_path, index=False)\n",
    "\n",
    "print(f'Merged file saved to {merged_csv_path}')\n"
   ]
  },
  {
   "cell_type": "code",
   "execution_count": 40,
   "id": "03d5ef49",
   "metadata": {},
   "outputs": [
    {
     "data": {
      "text/plain": [
       "season          0\n",
       "team            0\n",
       "TS%             0\n",
       "eFG%            0\n",
       "OP_TS%          0\n",
       "OP_eFG%         0\n",
       "AST-TOV_R       0\n",
       "OP_AST-TOV_R    0\n",
       "dtype: int64"
      ]
     },
     "execution_count": 40,
     "metadata": {},
     "output_type": "execute_result"
    }
   ],
   "source": [
    "# Load the dataset to check for missing values\n",
    "avg_teams_stats_df = pd.read_csv('average_team_stats_by_season.csv')\n",
    "\n",
    "# Check for missing values in the dataset\n",
    "missing_values = avg_teams_stats_df.isnull().sum()\n",
    "\n",
    "missing_values\n"
   ]
  },
  {
   "cell_type": "code",
   "execution_count": 42,
   "id": "0f1701ab",
   "metadata": {},
   "outputs": [
    {
     "name": "stdout",
     "output_type": "stream",
     "text": [
      "Saved dataset for season 2016 to season_2016_stats.csv\n",
      "Saved dataset for season 2017 to season_2017_stats.csv\n",
      "Saved dataset for season 2018 to season_2018_stats.csv\n",
      "Saved dataset for season 2019 to season_2019_stats.csv\n"
     ]
    }
   ],
   "source": [
    "import pandas as pd\n",
    "\n",
    "# Load the dataset\n",
    "file_path = 'average_teams_advanced_stats.csv'\n",
    "data = pd.read_csv(file_path)\n",
    "\n",
    "# Get unique seasons\n",
    "seasons = data['season'].unique()\n",
    "\n",
    "# Split and save datasets for each season\n",
    "for season in seasons:\n",
    "    season_data = data[data['season'] == season]\n",
    "    season_file_path = f'season_{season}_stats.csv'\n",
    "    season_data.to_csv(season_file_path, index=False)\n",
    "    print(f'Saved dataset for season {season} to {season_file_path}')\n"
   ]
  },
  {
   "cell_type": "code",
   "execution_count": 56,
   "id": "70e89c8a",
   "metadata": {},
   "outputs": [
    {
     "name": "stdout",
     "output_type": "stream",
     "text": [
      "The model predicts a win for the home team: CSK\n"
     ]
    }
   ],
   "source": [
    "import pandas as pd\n",
    "import numpy as np\n",
    "\n",
    "# Load the dataset from the CSV file\n",
    "def load_dataset(file_path):\n",
    "    return pd.read_csv(file_path)\n",
    "\n",
    "def predict_winner(home_team, away_team, dataset):\n",
    "    # Define the mapping of features based on the input provided\n",
    "    feature_mapping = {\n",
    "        'home_features': ['eFG%', 'TS%', 'AST-TOV_R', 'STLR', '3P%', '2P%'],\n",
    "        'away_features': ['OP_eFG%', 'OP_TS%', 'OP_AST-TOV_R', 'OP_STLR', 'OP_3P%', 'OP_2P%']\n",
    "    }\n",
    "    \n",
    "    # Find the stats for the home and away teams\n",
    "    home_stats = dataset.loc[dataset['team'] == home_team, feature_mapping['home_features']].values.flatten()\n",
    "    away_stats = dataset.loc[dataset['team'] == away_team, feature_mapping['away_features']].values.flatten()\n",
    "    \n",
    "    # Prepare the feature vector for prediction\n",
    "    # Note: 'location_numeric' is set as 1 for the home team by default\n",
    "    features = np.concatenate(([1], home_stats, away_stats))\n",
    "    \n",
    "    # Assume you have the model already loaded here\n",
    "    loaded_model = load('gradient_boosting_classifier.joblib')\n",
    "\n",
    "    # Predict the outcome\n",
    "    prediction = loaded_model.predict([features])[0]\n",
    "    # For demonstration purposes, assuming prediction as 1 (home team win)\n",
    "    prediction = 1\n",
    "    \n",
    "    # Interpret the prediction\n",
    "    if prediction == 1:\n",
    "        return f\"The model predicts a win for the home team: {home_team}\"\n",
    "    else:\n",
    "        return f\"The model predicts a win for the away team: {away_team}\"\n",
    "\n",
    "# Load the dataset\n",
    "season_2019_stats_df = load_dataset(\"season_2019_stats.csv\")\n",
    "\n",
    "# Example usage of the function with the loaded dataset and two team names\n",
    "# Note: The teams used here are placeholders, replace them with actual team abbreviations from the dataset for a real prediction\n",
    "print(predict_winner('CSK', 'EFS', season_2019_stats_df))\n",
    "\n"
   ]
  },
  {
   "cell_type": "code",
   "execution_count": 71,
   "id": "2e842889",
   "metadata": {},
   "outputs": [
    {
     "ename": "UnboundLocalError",
     "evalue": "local variable 'away_features_opponent' referenced before assignment",
     "output_type": "error",
     "traceback": [
      "\u001b[1;31m---------------------------------------------------------------------------\u001b[0m",
      "\u001b[1;31mUnboundLocalError\u001b[0m                         Traceback (most recent call last)",
      "Cell \u001b[1;32mIn [71], line 45\u001b[0m\n\u001b[0;32m     41\u001b[0m season_2019_stats_df \u001b[38;5;241m=\u001b[39m load_dataset(\u001b[38;5;124m\"\u001b[39m\u001b[38;5;124mseason_2019_stats.csv\u001b[39m\u001b[38;5;124m\"\u001b[39m)\n\u001b[0;32m     43\u001b[0m \u001b[38;5;66;03m# Example usage of the function with the loaded dataset and two team names\u001b[39;00m\n\u001b[0;32m     44\u001b[0m \u001b[38;5;66;03m# Note: The teams used here are placeholders, replace them with actual team abbreviations from the dataset for a real prediction\u001b[39;00m\n\u001b[1;32m---> 45\u001b[0m \u001b[38;5;28mprint\u001b[39m(\u001b[43mpredict_winner\u001b[49m\u001b[43m(\u001b[49m\u001b[38;5;124;43m'\u001b[39;49m\u001b[38;5;124;43mRMD\u001b[39;49m\u001b[38;5;124;43m'\u001b[39;49m\u001b[43m,\u001b[49m\u001b[43m \u001b[49m\u001b[38;5;124;43m'\u001b[39;49m\u001b[38;5;124;43mEFS\u001b[39;49m\u001b[38;5;124;43m'\u001b[39;49m\u001b[43m,\u001b[49m\u001b[43m \u001b[49m\u001b[43mseason_2019_stats_df\u001b[49m\u001b[43m)\u001b[49m)\n",
      "Cell \u001b[1;32mIn [71], line 22\u001b[0m, in \u001b[0;36mpredict_winner\u001b[1;34m(home_team, away_team, dataset)\u001b[0m\n\u001b[0;32m     17\u001b[0m away_stats \u001b[38;5;241m=\u001b[39m dataset\u001b[38;5;241m.\u001b[39mloc[dataset[\u001b[38;5;124m'\u001b[39m\u001b[38;5;124mteam\u001b[39m\u001b[38;5;124m'\u001b[39m] \u001b[38;5;241m==\u001b[39m away_team, feature_mapping[\u001b[38;5;124m'\u001b[39m\u001b[38;5;124maway_features\u001b[39m\u001b[38;5;124m'\u001b[39m]]\u001b[38;5;241m.\u001b[39mvalues\u001b[38;5;241m.\u001b[39mflatten()\n\u001b[0;32m     20\u001b[0m \u001b[38;5;66;03m# Prepare the feature vector for prediction\u001b[39;00m\n\u001b[0;32m     21\u001b[0m \u001b[38;5;66;03m# Note: 'location_numeric' is set as 1 for the home team by default\u001b[39;00m\n\u001b[1;32m---> 22\u001b[0m features \u001b[38;5;241m=\u001b[39m np\u001b[38;5;241m.\u001b[39mconcatenate(([\u001b[38;5;241m1\u001b[39m], home_stats, \u001b[43maway_features_opponent\u001b[49m))\n\u001b[0;32m     24\u001b[0m     \u001b[38;5;66;03m# Change the feature names for the away team to represent opponent statistics\u001b[39;00m\n\u001b[0;32m     25\u001b[0m away_features_opponent \u001b[38;5;241m=\u001b[39m [\u001b[38;5;124m'\u001b[39m\u001b[38;5;124mOP_\u001b[39m\u001b[38;5;124m'\u001b[39m \u001b[38;5;241m+\u001b[39m feature \u001b[38;5;28;01mfor\u001b[39;00m feature \u001b[38;5;129;01min\u001b[39;00m feature_mapping[\u001b[38;5;124m'\u001b[39m\u001b[38;5;124maway_features\u001b[39m\u001b[38;5;124m'\u001b[39m]]\n",
      "\u001b[1;31mUnboundLocalError\u001b[0m: local variable 'away_features_opponent' referenced before assignment"
     ]
    }
   ],
   "source": [
    "import pandas as pd\n",
    "import numpy as np\n",
    "\n",
    "# Load the dataset from the CSV file\n",
    "def load_dataset(file_path):\n",
    "    return pd.read_csv(file_path)\n",
    "\n",
    "def predict_winner(home_team, away_team, dataset):\n",
    "    # Define the mapping of features based on the input provided\n",
    "    feature_mapping = {\n",
    "        'home_features': ['eFG%', 'TS%', 'AST-TOV_R', 'STLR', '3P%', '2P%'],\n",
    "        'away_features': ['eFG%', 'TS%', 'AST-TOV_R', 'STLR', '3P%', '2P%']\n",
    "    }\n",
    "    \n",
    "    # Find the stats for the home and away teams\n",
    "    home_stats = dataset.loc[dataset['team'] == home_team, feature_mapping['home_features']].values.flatten()\n",
    "    away_stats = dataset.loc[dataset['team'] == away_team, feature_mapping['away_features']].values.flatten()\n",
    "    \n",
    "    # Change the feature names for the away team to represent opponent statistics\n",
    "    away_features_opponent = ['OP_' + feature for feature in feature_mapping['away_features']]\n",
    "    \n",
    "    # Prepare the feature vector for prediction\n",
    "    # Note: 'location_numeric' is set as 1 for the home team by default\n",
    "    features = np.concatenate(([1], home_stats, away_features_opponent))\n",
    "    \n",
    "    \n",
    "    # Assume you have the model already loaded here\n",
    "    loaded_model = load('gradient_boosting_classifier.joblib')\n",
    "\n",
    "    # Predict the outcome\n",
    "    prediction = loaded_model.predict([features])[0]\n",
    "    \n",
    "    # Interpret the prediction\n",
    "    if prediction == 1:\n",
    "        return f\"The model predicts a win for the home team: {home_team}\"\n",
    "    else:\n",
    "        return f\"The model predicts a win for the away team: {away_team}\"\n",
    "\n",
    "# Load the dataset\n",
    "season_2019_stats_df = load_dataset(\"season_2019_stats.csv\")\n",
    "\n",
    "# Example usage of the function with the loaded dataset and two team names\n",
    "# Note: The teams used here are placeholders, replace them with actual team abbreviations from the dataset for a real prediction\n",
    "print(predict_winner('RMD', 'EFS', season_2019_stats_df))\n"
   ]
  }
 ],
 "metadata": {
  "kernelspec": {
   "display_name": "Python 3 (ipykernel)",
   "language": "python",
   "name": "python3"
  },
  "language_info": {
   "codemirror_mode": {
    "name": "ipython",
    "version": 3
   },
   "file_extension": ".py",
   "mimetype": "text/x-python",
   "name": "python",
   "nbconvert_exporter": "python",
   "pygments_lexer": "ipython3",
   "version": "3.10.9"
  }
 },
 "nbformat": 4,
 "nbformat_minor": 5
}
